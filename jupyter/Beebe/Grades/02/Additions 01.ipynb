{
 "cells": [
  {
   "cell_type": "code",
   "execution_count": 1,
   "id": "cedb9a22-a54f-4245-ba88-e48af3e496cc",
   "metadata": {},
   "outputs": [
    {
     "data": {
      "text/plain": [
       "53"
      ]
     },
     "execution_count": 1,
     "metadata": {},
     "output_type": "execute_result"
    }
   ],
   "source": [
    "28 + 25"
   ]
  },
  {
   "cell_type": "code",
   "execution_count": 2,
   "id": "227494b2-b4c5-4e69-86fe-13c5aafd61e6",
   "metadata": {},
   "outputs": [
    {
     "data": {
      "text/plain": [
       "81"
      ]
     },
     "execution_count": 2,
     "metadata": {},
     "output_type": "execute_result"
    }
   ],
   "source": [
    "44 + 37"
   ]
  },
  {
   "cell_type": "code",
   "execution_count": 3,
   "id": "fb19e337-da49-47ec-93cb-1930c68710cb",
   "metadata": {},
   "outputs": [
    {
     "data": {
      "text/plain": [
       "95"
      ]
     },
     "execution_count": 3,
     "metadata": {},
     "output_type": "execute_result"
    }
   ],
   "source": [
    "80 + 15"
   ]
  },
  {
   "cell_type": "code",
   "execution_count": 4,
   "id": "f910839e-01d5-4264-9649-5519fa5961f2",
   "metadata": {},
   "outputs": [
    {
     "data": {
      "text/plain": [
       "83"
      ]
     },
     "execution_count": 4,
     "metadata": {},
     "output_type": "execute_result"
    }
   ],
   "source": [
    "48 + 35"
   ]
  },
  {
   "cell_type": "code",
   "execution_count": 5,
   "id": "e6eb70c7-bcc9-4937-8156-9bf379049d5f",
   "metadata": {},
   "outputs": [
    {
     "data": {
      "text/plain": [
       "64"
      ]
     },
     "execution_count": 5,
     "metadata": {},
     "output_type": "execute_result"
    }
   ],
   "source": [
    "19 + 45"
   ]
  },
  {
   "cell_type": "code",
   "execution_count": 6,
   "id": "2a3f5e25-fbdb-44c0-9291-835c099cda41",
   "metadata": {},
   "outputs": [
    {
     "data": {
      "text/plain": [
       "93"
      ]
     },
     "execution_count": 6,
     "metadata": {},
     "output_type": "execute_result"
    }
   ],
   "source": [
    "66 + 27"
   ]
  },
  {
   "cell_type": "code",
   "execution_count": 7,
   "id": "f7272bdb-38b7-4663-8dcd-9411b8a934dd",
   "metadata": {},
   "outputs": [
    {
     "data": {
      "text/plain": [
       "88"
      ]
     },
     "execution_count": 7,
     "metadata": {},
     "output_type": "execute_result"
    }
   ],
   "source": [
    "22 + 66"
   ]
  },
  {
   "cell_type": "code",
   "execution_count": 8,
   "id": "f31e5fdd-3665-47fd-b1ee-df10be1711d9",
   "metadata": {},
   "outputs": [
    {
     "data": {
      "text/plain": [
       "62"
      ]
     },
     "execution_count": 8,
     "metadata": {},
     "output_type": "execute_result"
    }
   ],
   "source": [
    "17 + 45"
   ]
  }
 ],
 "metadata": {
  "kernelspec": {
   "display_name": "Python 3 (ipykernel)",
   "language": "python",
   "name": "python3"
  },
  "language_info": {
   "codemirror_mode": {
    "name": "ipython",
    "version": 3
   },
   "file_extension": ".py",
   "mimetype": "text/x-python",
   "name": "python",
   "nbconvert_exporter": "python",
   "pygments_lexer": "ipython3",
   "version": "3.12.7"
  }
 },
 "nbformat": 4,
 "nbformat_minor": 5
}
