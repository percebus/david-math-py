{
 "cells": [
  {
   "cell_type": "markdown",
   "id": "f3117de0-664c-4ef6-9ffc-e0bc8362328f",
   "metadata": {},
   "source": [
    "User single _underscores_ or single *asterisks* to get italics"
   ]
  },
  {
   "cell_type": "markdown",
   "id": "361a43cd-3819-409c-92a5-04690ae46eaa",
   "metadata": {},
   "source": [
    "# Header 1\n",
    "## Header 2\n",
    "### Header 3"
   ]
  },
  {
   "cell_type": "markdown",
   "id": "8c4f849e-24a2-4fb9-b613-b8fc460129d6",
   "metadata": {},
   "source": [
    "* item 1\n",
    "* item 2\n",
    "* item 3\n",
    "  * sub-item 1"
   ]
  },
  {
   "cell_type": "markdown",
   "id": "92261013-cfbf-417c-85d2-c71e383833e9",
   "metadata": {},
   "source": [
    "```pyton\n",
    "s = \"Syntax highlighting for Python\"\n",
    "print(x)\n",
    "```"
   ]
  },
  {
   "cell_type": "code",
   "execution_count": null,
   "id": "ba4281bd-0da4-494f-a31c-3311948370ef",
   "metadata": {},
   "outputs": [],
   "source": []
  },
  {
   "cell_type": "code",
   "execution_count": null,
   "id": "a9f49602-1680-40bc-a67b-f607fb40d644",
   "metadata": {},
   "outputs": [],
   "source": []
  }
 ],
 "metadata": {
  "kernelspec": {
   "display_name": ".venv",
   "language": "python",
   "name": ".venv"
  },
  "language_info": {
   "codemirror_mode": {
    "name": "ipython",
    "version": 3
   },
   "file_extension": ".py",
   "mimetype": "text/x-python",
   "name": "python",
   "nbconvert_exporter": "python",
   "pygments_lexer": "ipython3",
   "version": "3.12.7"
  }
 },
 "nbformat": 4,
 "nbformat_minor": 5
}
