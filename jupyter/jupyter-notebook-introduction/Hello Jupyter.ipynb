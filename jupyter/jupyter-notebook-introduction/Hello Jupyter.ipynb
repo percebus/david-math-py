{
 "cells": [
  {
   "cell_type": "code",
   "execution_count": 1,
   "id": "acfe4890-bc3b-4a89-994c-ebda53f8ae1c",
   "metadata": {},
   "outputs": [
    {
     "name": "stdout",
     "output_type": "stream",
     "text": [
      "Hello Jupyter\n"
     ]
    }
   ],
   "source": [
    "print('Hello Jupyter')"
   ]
  },
  {
   "cell_type": "code",
   "execution_count": null,
   "id": "4fce848f-5c6f-4bfd-8050-8e88b1cc2ff5",
   "metadata": {},
   "outputs": [],
   "source": []
  }
 ],
 "metadata": {
  "kernelspec": {
   "display_name": ".venv",
   "language": "python",
   "name": ".venv"
  },
  "language_info": {
   "codemirror_mode": {
    "name": "ipython",
    "version": 3
   },
   "file_extension": ".py",
   "mimetype": "text/x-python",
   "name": "python",
   "nbconvert_exporter": "python",
   "pygments_lexer": "ipython3",
   "version": "3.12.7"
  }
 },
 "nbformat": 4,
 "nbformat_minor": 5
}
